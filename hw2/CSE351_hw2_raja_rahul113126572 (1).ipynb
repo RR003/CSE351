{
  "cells": [
    {
      "cell_type": "code",
      "execution_count": 2,
      "metadata": {
        "colab": {
          "base_uri": "https://localhost:8080/",
          "height": 130,
          "resources": {
            "http://localhost:8080/nbextensions/google.colab/files.js": {
              "data": "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",
              "headers": [
                [
                  "content-type",
                  "application/javascript"
                ]
              ],
              "ok": true,
              "status": 200,
              "status_text": ""
            }
          }
        },
        "id": "YPRFn0sOYyBw",
        "outputId": "481dc081-d8cd-4914-c75a-94c2a641993e"
      },
      "outputs": [
        {
          "output_type": "display_data",
          "data": {
            "text/plain": [
              "<IPython.core.display.HTML object>"
            ],
            "text/html": [
              "\n",
              "     <input type=\"file\" id=\"files-c6d60d9e-a3ee-4a14-9a32-ae15f23a80d8\" name=\"files[]\" multiple disabled\n",
              "        style=\"border:none\" />\n",
              "     <output id=\"result-c6d60d9e-a3ee-4a14-9a32-ae15f23a80d8\">\n",
              "      Upload widget is only available when the cell has been executed in the\n",
              "      current browser session. Please rerun this cell to enable.\n",
              "      </output>\n",
              "      <script src=\"/nbextensions/google.colab/files.js\"></script> "
            ]
          },
          "metadata": {}
        },
        {
          "output_type": "stream",
          "name": "stdout",
          "text": [
            "Saving weather_data.csv to weather_data.csv\n"
          ]
        },
        {
          "output_type": "display_data",
          "data": {
            "text/plain": [
              "<IPython.core.display.HTML object>"
            ],
            "text/html": [
              "\n",
              "     <input type=\"file\" id=\"files-a8f5dc55-b768-4def-8c1b-ef66b52d77df\" name=\"files[]\" multiple disabled\n",
              "        style=\"border:none\" />\n",
              "     <output id=\"result-a8f5dc55-b768-4def-8c1b-ef66b52d77df\">\n",
              "      Upload widget is only available when the cell has been executed in the\n",
              "      current browser session. Please rerun this cell to enable.\n",
              "      </output>\n",
              "      <script src=\"/nbextensions/google.colab/files.js\"></script> "
            ]
          },
          "metadata": {}
        },
        {
          "output_type": "stream",
          "name": "stdout",
          "text": [
            "Saving energy_data.csv to energy_data.csv\n"
          ]
        }
      ],
      "source": [
        "## do all imports here\n",
        "import numpy as np\n",
        "import pandas as pd\n",
        "import numpy as np\n",
        "from sklearn.linear_model import LinearRegression\n",
        "\n",
        "from google.colab import files\n",
        "\n",
        "## downloaded csv file from url and importing it into notebook\n",
        "weather_data = files.upload()\n",
        "energy_data = files.upload()\n",
        "\n",
        "weather_data = pd.read_csv('weather_data.csv') ## opening weather data\n",
        "energy_data = pd.read_csv('energy_data.csv') ## opening energy data\n",
        "\n"
      ]
    },
    {
      "cell_type": "code",
      "execution_count": 12,
      "metadata": {
        "colab": {
          "base_uri": "https://localhost:8080/"
        },
        "id": "85wvWzaDrHwW",
        "outputId": "2e2c7a41-9abe-42d6-b817-154db086657d"
      },
      "outputs": [
        {
          "output_type": "stream",
          "name": "stdout",
          "text": [
            "            temperature  humidity  visibility     pressure  windSpeed  \\\n",
            "Date                                                                    \n",
            "2014-01-01    20.110833  0.556667    9.970000  1025.395000   6.820417   \n",
            "2014-01-02    16.382500  0.784583    3.834583  1023.465833   7.433750   \n",
            "2014-01-03     6.256667  0.680833    4.509167  1014.428750  12.828333   \n",
            "2014-01-04     2.711667  0.617083    9.822917  1030.096250   5.248333   \n",
            "2014-01-05    17.654167  0.682083    9.134583  1025.275000   3.417083   \n",
            "...                 ...       ...         ...          ...        ...   \n",
            "2014-12-27    35.487083  0.756250    9.246250  1022.081667   3.677083   \n",
            "2014-12-28    41.892917  0.763750    9.332917  1013.549167   6.587917   \n",
            "2014-12-29    34.728333  0.592083    9.997083  1018.870833   8.129583   \n",
            "2014-12-30    24.846667  0.488750    9.998333  1026.102083   7.566667   \n",
            "2014-12-31    19.522917  0.552917    9.986250  1025.940833   5.943750   \n",
            "\n",
            "            cloudCover  windBearing  precipIntensity   dewPoint  \\\n",
            "Date                                                              \n",
            "2014-01-01    0.031304   252.291667         0.000000   6.362083   \n",
            "2014-01-02    0.354444    53.458333         0.002004  10.737083   \n",
            "2014-01-03    0.186364   207.333333         0.002029  -2.337500   \n",
            "2014-01-04    0.001667   240.166667         0.000000  -8.352083   \n",
            "2014-01-05    0.010952   208.958333         0.000033   8.615000   \n",
            "...                ...          ...              ...        ...   \n",
            "2014-12-27    0.030417   243.791667         0.000000  27.992500   \n",
            "2014-12-28    0.245909   224.458333         0.003996  34.876250   \n",
            "2014-12-29    0.119167   281.833333         0.000000  21.570000   \n",
            "2014-12-30    0.031250   312.041667         0.000000   7.772083   \n",
            "2014-12-31    0.117917   260.083333         0.000000   5.332500   \n",
            "\n",
            "            precipProbability  ...  First Floor lights [kW]  \\\n",
            "Date                           ...                            \n",
            "2014-01-01           0.000000  ...                 0.567603   \n",
            "2014-01-02           0.074583  ...                 0.506440   \n",
            "2014-01-03           0.080000  ...                 0.507426   \n",
            "2014-01-04           0.000000  ...                 0.515988   \n",
            "2014-01-05           0.000417  ...                 0.519449   \n",
            "...                       ...  ...                      ...   \n",
            "2014-12-27           0.000000  ...                 0.825872   \n",
            "2014-12-28           0.137917  ...                 0.874563   \n",
            "2014-12-29           0.000000  ...                 0.552812   \n",
            "2014-12-30           0.000000  ...                 0.764434   \n",
            "2014-12-31           0.000000  ...                 0.559797   \n",
            "\n",
            "            Utility Rm + Basement Bath [kW]  Garage outlets [kW]  \\\n",
            "Date                                                               \n",
            "2014-01-01                         0.178529             0.261094   \n",
            "2014-01-02                         0.178024             0.282479   \n",
            "2014-01-03                         0.176649             0.279159   \n",
            "2014-01-04                         0.180056             0.344005   \n",
            "2014-01-05                         0.178556             0.348489   \n",
            "...                                     ...                  ...   \n",
            "2014-12-27                         0.112661             0.255620   \n",
            "2014-12-28                         0.115673             0.257369   \n",
            "2014-12-29                         0.112204             0.274396   \n",
            "2014-12-30                         0.115933             0.238277   \n",
            "2014-12-31                         0.114914             0.273398   \n",
            "\n",
            "            MBed + KBed outlets [kW]  Dryer + egauge [kW]  \\\n",
            "Date                                                        \n",
            "2014-01-01                  0.254839            31.938131   \n",
            "2014-01-02                  0.798316             5.423866   \n",
            "2014-01-03                  0.746972             0.005554   \n",
            "2014-01-04                  0.640721            19.994908   \n",
            "2014-01-05                  0.584570             9.493912   \n",
            "...                              ...                  ...   \n",
            "2014-12-27                  5.422751             0.005953   \n",
            "2014-12-28                 11.602281             0.008270   \n",
            "2014-12-29                  5.951963             0.005461   \n",
            "2014-12-30                 11.100021             0.008893   \n",
            "2014-12-31                  7.741381             0.005618   \n",
            "\n",
            "            Panel GFI (central vac) [kW]  Home Office (R) [kW]  \\\n",
            "Date                                                             \n",
            "2014-01-01                      0.350291              3.272944   \n",
            "2014-01-02                      0.346679              3.475469   \n",
            "2014-01-03                      0.344061              3.615520   \n",
            "2014-01-04                      0.346872              3.700408   \n",
            "2014-01-05                      0.346070              3.699178   \n",
            "...                                  ...                   ...   \n",
            "2014-12-27                      0.015400              0.473471   \n",
            "2014-12-28                      0.018872              0.473571   \n",
            "2014-12-29                      0.015199              0.493595   \n",
            "2014-12-30                      0.020299              0.512197   \n",
            "2014-12-31                      0.017158              0.514595   \n",
            "\n",
            "            Dining room (R) [kW]  Microwave (R) [kW]  Fridge (R) [kW]  \n",
            "Date                                                                   \n",
            "2014-01-01              0.200970            4.997037         4.639598  \n",
            "2014-01-02              0.207041            1.534426         3.881399  \n",
            "2014-01-03              0.201975            1.667553         3.671391  \n",
            "2014-01-04              0.203913            1.029198         3.357907  \n",
            "2014-01-05              0.197897            1.619991         4.373730  \n",
            "...                          ...                 ...              ...  \n",
            "2014-12-27              0.668127            0.642506         3.839653  \n",
            "2014-12-28              0.657405            0.311556         3.510436  \n",
            "2014-12-29              0.670818            0.279923         3.702587  \n",
            "2014-12-30              0.680587            0.623743         4.555577  \n",
            "2014-12-31              0.597449            0.513711         3.118014  \n",
            "\n",
            "[365 rows x 27 columns]\n"
          ]
        },
        {
          "output_type": "stream",
          "name": "stderr",
          "text": [
            "/usr/local/lib/python3.7/dist-packages/ipykernel_launcher.py:37: SettingWithCopyWarning: \n",
            "A value is trying to be set on a copy of a slice from a DataFrame.\n",
            "Try using .loc[row_indexer,col_indexer] = value instead\n",
            "\n",
            "See the caveats in the documentation: https://pandas.pydata.org/pandas-docs/stable/user_guide/indexing.html#returning-a-view-versus-a-copy\n",
            "/usr/local/lib/python3.7/dist-packages/ipykernel_launcher.py:48: FutureWarning: Indexing with multiple keys (implicitly converted to a tuple of keys) will be deprecated, use a list instead.\n"
          ]
        }
      ],
      "source": [
        "## Task 1\n",
        "\n",
        "copy_energy = energy_data\n",
        "\n",
        "## adding a column just for the date in copy_energy\n",
        "just_time = []\n",
        "\n",
        "for i in range(365):  \n",
        "  for j in range(48):\n",
        "    index = i * 48 + j\n",
        "    time = energy_data.at[index, 'Date & Time'] \n",
        "    time = time[0:10]\n",
        "    just_time.append(time)\n",
        "\n",
        "copy_energy[\"Date\"] = just_time \n",
        "\n",
        "\n",
        "## grouping copy_energy by the date\n",
        "columns = copy_energy.columns[1:18:1]\n",
        "daily_energy = copy_energy.groupby([\"Date\"])[columns].sum() ## adding per day usage\n",
        "\n",
        "## copying time value in weather data into energy data\n",
        "energy_every_two = energy_data\n",
        "energy_every_two = energy_every_two.iloc[::2, :] ## only retreiving every two rows\n",
        "\n",
        "energy_every_two.head()\n",
        "\n",
        "unix_times = [] ## converting unix times\n",
        "\n",
        "## adding unix time to energy_every_two\n",
        "for i in range(365):  \n",
        "  for j in range(24):\n",
        "    index = i * 24 + j\n",
        "    time = weather_data.at[index, 'time']\n",
        "    unix_times.append(time)\n",
        "\n",
        "energy_every_two[\"time\"] = unix_times\n",
        "\n",
        "\n",
        "merged_data = pd.merge(weather_data, energy_every_two) ## merging the two altered datasets together\n",
        "\n",
        "## grouping by day in weather_data\n",
        "\n",
        "columns_to_average = []\n",
        "\n",
        "## only getting the necesary columns\n",
        "grouped_merged_data = merged_data.copy()\n",
        "grouped_merged_data = grouped_merged_data.groupby(\"Date\")[\"temperature\",\"humidity\", \"visibility\", \"pressure\", \"windSpeed\", \"cloudCover\", \"windBearing\", \"precipIntensity\", \"dewPoint\", \"precipProbability\"].mean()\n",
        "\n",
        "## grouped_merged_data.head()\n",
        "## daily_energy.head()\n",
        "\n",
        "daily_merged_data = grouped_merged_data.join(daily_energy)\n",
        "\n",
        "print(daily_merged_data)\n",
        "\n",
        "\n",
        "## merged_data2 = pd.merge(grouped_merged_data, daily_energy)\n",
        "\n",
        "## What we need: merge the grouped_energy data with the weather_data that is averaged per day\n",
        "## print(merged_data2)\n",
        "\n",
        "## Task 2\n",
        "\n",
        "## split the merged_data into training and testing datasets\n",
        "merged_data_copy = merged_data.copy()\n",
        "daily_merged_data_copy = daily_merged_data.copy()\n",
        "\n",
        "columns = energy_data.columns[2:18:1]\n",
        "\n",
        "for i in range(len(columns)):\n",
        "    del merged_data_copy[columns[i]] ## removing each column\n",
        "    del daily_merged_data_copy[columns[i]]\n",
        "\n",
        "training_data = daily_merged_data_copy.head(334)\n",
        "testing_data = daily_merged_data_copy.tail(31)\n",
        "\n",
        "testing_data_without_label = testing_data.copy()\n",
        "y_actual = testing_data[\"use [kW]\"]\n",
        "del testing_data_without_label[\"use [kW]\"]\n"
      ]
    },
    {
      "cell_type": "code",
      "execution_count": 13,
      "metadata": {
        "colab": {
          "base_uri": "https://localhost:8080/"
        },
        "id": "tTJN9aAXC111",
        "outputId": "f2c58a29-88d9-455c-889d-56abdea332c2"
      },
      "outputs": [
        {
          "output_type": "stream",
          "name": "stdout",
          "text": [
            "Root mean square error value : 8.629044152737501\n",
            "Adjusted rmse value: 0.3427452203685782\n",
            "          Date  Predicted Value\n",
            "0   2014-12-01        30.640995\n",
            "1   2014-12-02        31.771946\n",
            "2   2014-12-03        18.535163\n",
            "3   2014-12-04        31.506958\n",
            "4   2014-12-05        23.720011\n",
            "5   2014-12-06        21.470628\n",
            "6   2014-12-07        22.177421\n",
            "7   2014-12-08        24.715977\n",
            "8   2014-12-09        20.536352\n",
            "9   2014-12-10        18.808375\n",
            "10  2014-12-11        20.117905\n",
            "11  2014-12-12        22.047780\n",
            "12  2014-12-13        25.695860\n",
            "13  2014-12-14        24.481432\n",
            "14  2014-12-15        28.048542\n",
            "15  2014-12-16        16.850926\n",
            "16  2014-12-17        23.628356\n",
            "17  2014-12-18        26.174668\n",
            "18  2014-12-19        25.953018\n",
            "19  2014-12-20        25.473606\n",
            "20  2014-12-21        15.427852\n",
            "21  2014-12-22        13.876996\n",
            "22  2014-12-23        14.176729\n",
            "23  2014-12-24        17.301925\n",
            "24  2014-12-25        30.294769\n",
            "25  2014-12-26        34.086540\n",
            "26  2014-12-27        26.694369\n",
            "27  2014-12-28        27.611849\n",
            "28  2014-12-29        30.600297\n",
            "29  2014-12-30        29.890010\n",
            "30  2014-12-31        25.919144\n"
          ]
        }
      ],
      "source": [
        "## Task 3\n",
        "from sklearn.linear_model import LinearRegression\n",
        "import math\n",
        "from sklearn.metrics import mean_squared_error\n",
        "from math import sqrt\n",
        "import csv\n",
        "\n",
        "\n",
        "columns = testing_data_without_label.columns ## retrieving columns to group\n",
        "\n",
        "x_train = training_data[columns] ## only getting the necesary columns\n",
        "y_train = training_data['use [kW]']   ## dependent variables\n",
        "## print(x_train)\n",
        "x_train = np.reshape(x_train, (334, 10)) ## shaping the data\n",
        "\n",
        "\n",
        "testing_data_without_label = np.reshape(testing_data_without_label, (31, 10)) ## shaping testing data\n",
        "\n",
        "LR = LinearRegression() ## setting up linear regression model\n",
        "LR = LR.fit(x_train,y_train) ## training the model\n",
        "\n",
        "prediction =  LR.predict(testing_data_without_label) ## testing the model\n",
        "\n",
        "## print(prediction)\n",
        "## print(y_actual)\n",
        "\n",
        "rms = sqrt(mean_squared_error(y_actual, prediction)) ## rms calculation\n",
        "\n",
        "print(\"Root mean square error value : \" + str(rms))\n",
        "## rms value is apx 8.629 || max-value: 44.563400 || min-value: 19.387136\n",
        "adjusted_rms = rms / (44.563400 - 19.387136)\n",
        "print(\"Adjusted rmse value: \" + str(adjusted_rms)) \n",
        "## rms value is 0.3423 is which around an average fitting model. Closer to 0 is perfect and closer to 1 is considered a bad model. \n",
        "\n",
        "\n",
        "\n",
        "## creating csv file\n",
        "dates = testing_data.index\n",
        "\n",
        "with open('kw_prediction.csv', 'w', newline='') as file:\n",
        "    writer = csv.writer(file)\n",
        "    writer.writerow([\"Date\", \"Predicted Value\"])\n",
        "    for i in range(len(prediction)):\n",
        "        writer.writerow([dates[i], prediction[i]]) ## writing the data into the file\n",
        "        \n",
        "        \n",
        "\n",
        "predictor = pd.read_csv('kw_prediction.csv')\n",
        "print(predictor)"
      ]
    },
    {
      "cell_type": "code",
      "execution_count": 14,
      "metadata": {
        "colab": {
          "base_uri": "https://localhost:8080/"
        },
        "id": "TwYzOPUqMSLM",
        "outputId": "d1140912-e098-4a71-d795-67954deabcad"
      },
      "outputs": [
        {
          "output_type": "stream",
          "name": "stdout",
          "text": [
            "Fl score: 0.7027027027027027\n",
            "          Date  Temperature Classification\n",
            "0   2014-12-01                           1\n",
            "1   2014-12-02                           1\n",
            "2   2014-12-03                           1\n",
            "3   2014-12-04                           1\n",
            "4   2014-12-05                           0\n",
            "5   2014-12-06                           0\n",
            "6   2014-12-07                           1\n",
            "7   2014-12-08                           0\n",
            "8   2014-12-09                           1\n",
            "9   2014-12-10                           1\n",
            "10  2014-12-11                           0\n",
            "11  2014-12-12                           1\n",
            "12  2014-12-13                           1\n",
            "13  2014-12-14                           1\n",
            "14  2014-12-15                           1\n",
            "15  2014-12-16                           1\n",
            "16  2014-12-17                           1\n",
            "17  2014-12-18                           1\n",
            "18  2014-12-19                           1\n",
            "19  2014-12-20                           0\n",
            "20  2014-12-21                           1\n",
            "21  2014-12-22                           1\n",
            "22  2014-12-23                           1\n",
            "23  2014-12-24                           1\n",
            "24  2014-12-25                           1\n",
            "25  2014-12-26                           1\n",
            "26  2014-12-27                           1\n",
            "27  2014-12-28                           1\n",
            "28  2014-12-29                           1\n",
            "29  2014-12-30                           0\n",
            "30  2014-12-31                           0\n"
          ]
        },
        {
          "output_type": "stream",
          "name": "stderr",
          "text": [
            "/usr/local/lib/python3.7/dist-packages/sklearn/linear_model/_logistic.py:818: ConvergenceWarning: lbfgs failed to converge (status=1):\n",
            "STOP: TOTAL NO. of ITERATIONS REACHED LIMIT.\n",
            "\n",
            "Increase the number of iterations (max_iter) or scale the data as shown in:\n",
            "    https://scikit-learn.org/stable/modules/preprocessing.html\n",
            "Please also refer to the documentation for alternative solver options:\n",
            "    https://scikit-learn.org/stable/modules/linear_model.html#logistic-regression\n",
            "  extra_warning_msg=_LOGISTIC_SOLVER_CONVERGENCE_MSG,\n"
          ]
        }
      ],
      "source": [
        "## Task 4\n",
        "from sklearn.linear_model import LogisticRegression\n",
        "from sklearn.metrics import f1_score\n",
        "\n",
        "weather_copy = grouped_merged_data.copy()\n",
        "temperatures = weather_copy[\"temperature\"]\n",
        "binary_temp = []\n",
        "\n",
        "## classfying high and low data\n",
        "for i in range(len(temperatures)):\n",
        "  if temperatures[i] < 35:\n",
        "    binary_temp.append(0)\n",
        "  else:\n",
        "    binary_temp.append(1)\n",
        "\n",
        "weather_copy[\"temperature\"] = binary_temp ## adding column to the table\n",
        "\n",
        "weather_copy.head(10)\n",
        "\n",
        "training_data = weather_copy.head(334)\n",
        "testing_data = weather_copy.tail(31)\n",
        "\n",
        "y_actual = testing_data[\"temperature\"]\n",
        "testing_data_with_label = testing_data.copy()\n",
        "del testing_data[\"temperature\"]\n",
        "\n",
        "columns = testing_data.columns\n",
        "x_train = training_data[columns]   ## independent variables\n",
        "y_train = training_data['temperature']   ## dependent variables\n",
        "\n",
        "logreg = LogisticRegression() ## setting up logistic reg. model\n",
        "logreg.fit(x_train,y_train) ## training log model\n",
        "\n",
        "prediction = logreg.predict(testing_data) ## testing the model\n",
        "\n",
        "f1score = f1_score(y_actual, prediction) ## calculating f1 score\n",
        "print(\"Fl score: \" + str(f1score))\n",
        "\n",
        "dates = testing_data.index\n",
        "\n",
        "## received a f1 score of around 0.7027\n",
        "\n",
        "## creating csv file\n",
        "with open('temp_predictor.csv', 'w', newline='') as file:\n",
        "    writer = csv.writer(file)\n",
        "    writer.writerow([\"Date\", \"Temperature Classification\"])\n",
        "    for i in range(len(prediction)):\n",
        "        writer.writerow([dates[i], prediction[i]]) ## writing data\n",
        "        \n",
        "        \n",
        "\n",
        "predictor = pd.read_csv('temp_predictor.csv')\n",
        "print(predictor)\n"
      ]
    },
    {
      "cell_type": "code",
      "execution_count": 20,
      "metadata": {
        "colab": {
          "base_uri": "https://localhost:8080/",
          "height": 297
        },
        "id": "ReSheLeLgrBr",
        "outputId": "7ae12457-295f-40a6-bac2-13c827c814ee"
      },
      "outputs": [
        {
          "output_type": "execute_result",
          "data": {
            "text/plain": [
              "<matplotlib.legend.Legend at 0x7f41d878eed0>"
            ]
          },
          "metadata": {},
          "execution_count": 20
        },
        {
          "output_type": "display_data",
          "data": {
            "text/plain": [
              "<Figure size 432x288 with 1 Axes>"
            ],
            "image/png": "[encoded data removed]"
          },
          "metadata": {
            "needs_background": "light"
          }
        }
      ],
      "source": [
        "## Task 5\n",
        "import matplotlib.pyplot as plt\n",
        "\n",
        "energy_data2 = energy_data.copy()\n",
        "date_and_time = energy_data2[\"Date & Time\"]\n",
        "\n",
        "just_time = []\n",
        "\n",
        "## 6AM - 7PM is considered daytime, rest is night time\n",
        "\n",
        "for i in range(len(date_and_time)):\n",
        "  digit = int(date_and_time[i][11:13])\n",
        "  if digit >= 6 and digit < 19:\n",
        "    just_time.append(1) ## 1 is daytime\n",
        "  else:\n",
        "    just_time.append(0) ## 0 is nighttime\n",
        "\n",
        "energy_data2[\"daytime\"] = just_time\n",
        "\n",
        "grouped_data_with_washer = energy_data2.groupby([\"Date\",\"daytime\"])[\"Washer [kW]\"].mean()\n",
        "grouped_data_with_ac = energy_data2.groupby([\"Date\",\"daytime\"])[\"AC [kW]\"].mean()\n",
        "\n",
        "\n",
        "y1_data = []\n",
        "y2_data = []\n",
        "x_data = []\n",
        "\n",
        "\n",
        "for i in range(len(grouped_data_with_washer)):\n",
        "  if i % 2 == 0:\n",
        "    y1_data.append(grouped_data_with_washer[i]) ## y1 data contains nighttime data\n",
        "    x_data.append(i / 2)\n",
        "  else:\n",
        "    y2_data.append(grouped_data_with_washer[i]) ##y2 data contains daytime data\n",
        "\n",
        "## First graph is washer\n",
        "plt.plot(x_data, y1_data, 'o', color='black', label=\"night\"); ## black is nighttime\n",
        "plt.plot(x_data, y2_data, 'o', color='red', label=\"day\"); ## red is daytime\n",
        "\n",
        "plt.xlabel(\"Day (Jan 1 - Dec 31)\")\n",
        "plt.ylabel(\"Washer Usage per day\")\n",
        "\n",
        "plt.gca().legend(('night','day'))\n",
        "\n",
        "## people generally use the washer more during the daytime rather than the night time\n"
      ]
    },
    {
      "cell_type": "code",
      "execution_count": 21,
      "metadata": {
        "colab": {
          "base_uri": "https://localhost:8080/",
          "height": 297
        },
        "id": "cvUUIfIxoXqh",
        "outputId": "0f0049db-c4bc-4869-bc38-5bb5dfc14a67"
      },
      "outputs": [
        {
          "output_type": "execute_result",
          "data": {
            "text/plain": [
              "<matplotlib.legend.Legend at 0x7f41d8722910>"
            ]
          },
          "metadata": {},
          "execution_count": 21
        },
        {
          "output_type": "display_data",
          "data": {
            "text/plain": [
              "<Figure size 432x288 with 1 Axes>"
            ],
            "image/png": "[encoded data removed]"
          },
          "metadata": {
            "needs_background": "light"
          }
        }
      ],
      "source": [
        "## Task 5 Continued\n",
        "\n",
        "y1_data = []\n",
        "y2_data = []\n",
        "x_data = []\n",
        "\n",
        "for i in range(len(grouped_data_with_ac)):\n",
        "  if i % 2 == 0:\n",
        "    y1_data.append(grouped_data_with_ac[i])\n",
        "    x_data.append(i / 2)\n",
        "  else:\n",
        "    y2_data.append(grouped_data_with_ac[i])\n",
        "\n",
        "\n",
        "## First graph is washer\n",
        "plt.plot(x_data, y1_data, 'o',color='black')\n",
        "plt.plot(x_data, y2_data, 'o',color='red')\n",
        "\n",
        "plt.xlabel(\"Day (Jan 1 - Dec 31)\")\n",
        "plt.ylabel(\"A/C Usage per day\")\n",
        "\n",
        "plt.gca().legend(('night','day'))\n",
        "\n",
        "\n",
        "\n",
        "## results show people use the ac more during the night time compared to the daytime and mostly during the summer months (Day 175 - Day 250) is roughly "
      ]
    }
  ],
  "metadata": {
    "colab": {
      "collapsed_sections": [],
      "name": "CSE351-HW2.ipynb",
      "provenance": []
    },
    "kernelspec": {
      "display_name": "Python 3",
      "name": "python3"
    },
    "language_info": {
      "name": "python"
    }
  },
  "nbformat": 4,
  "nbformat_minor": 0
}